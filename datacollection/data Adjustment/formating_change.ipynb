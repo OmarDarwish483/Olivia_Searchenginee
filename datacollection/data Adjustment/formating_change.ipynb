{
 "cells": [
  {
   "cell_type": "markdown",
   "metadata": {},
   "source": [
    "ii. Document Formats:\n",
    " Choose a format that can be easily parsed and indexed for text analysis.\n",
    "Common formats include plain text files (.txt), CSV files, JSON files, or\n",
    "structured databases.\n"
   ]
  },
  {
   "cell_type": "code",
   "execution_count": 1,
   "metadata": {},
   "outputs": [],
   "source": [
    "import pandas as pd\n",
    "import xml.etree.ElementTree as ET"
   ]
  },
  {
   "cell_type": "code",
   "execution_count": 6,
   "metadata": {},
   "outputs": [
    {
     "name": "stderr",
     "output_type": "stream",
     "text": [
      "<>:1: SyntaxWarning: invalid escape sequence '\\D'\n",
      "<>:1: SyntaxWarning: invalid escape sequence '\\D'\n",
      "C:\\Users\\Omar\\AppData\\Local\\Temp\\ipykernel_27916\\2675472806.py:1: SyntaxWarning: invalid escape sequence '\\D'\n",
      "  data=pd.read_xml('D:\\DownLoad\\projects\\Search Engine\\Olivia_Searchengine\\datacollection\\cran\\cranfield-trec-dataset\\cran.all.1400.xml')\n",
      "C:\\Users\\Omar\\AppData\\Local\\Temp\\ipykernel_27916\\2675472806.py:1: FutureWarning: Passing literal xml to 'read_xml' is deprecated and will be removed in a future version. To read from a literal string, wrap it in a 'StringIO' object.\n",
      "  data=pd.read_xml('D:\\DownLoad\\projects\\Search Engine\\Olivia_Searchengine\\datacollection\\cran\\cranfield-trec-dataset\\cran.all.1400.xml')\n"
     ]
    },
    {
     "ename": "XMLSyntaxError",
     "evalue": "Start tag expected, '<' not found, line 1, column 1 (<string>, line 1)",
     "output_type": "error",
     "traceback": [
      "Traceback \u001b[36m(most recent call last)\u001b[39m:\n",
      "  File \u001b[92md:\\DownLoad\\projects\\Search Engine\\Olivia_Searchengine\\venv\\Lib\\site-packages\\IPython\\core\\interactiveshell.py:3546\u001b[39m in \u001b[95mrun_code\u001b[39m\n    exec(code_obj, self.user_global_ns, self.user_ns)\n",
      "  Cell \u001b[92mIn[6]\u001b[39m\u001b[92m, line 1\u001b[39m\n    data=pd.read_xml('D:\\DownLoad\\projects\\Search Engine\\Olivia_Searchengine\\datacollection\\cran\\cranfield-trec-dataset\\cran.all.1400.xml')\n",
      "  File \u001b[92md:\\DownLoad\\projects\\Search Engine\\Olivia_Searchengine\\venv\\Lib\\site-packages\\pandas\\io\\xml.py:1160\u001b[39m in \u001b[95mread_xml\u001b[39m\n    return _parse(\n",
      "  File \u001b[92md:\\DownLoad\\projects\\Search Engine\\Olivia_Searchengine\\venv\\Lib\\site-packages\\pandas\\io\\xml.py:852\u001b[39m in \u001b[95m_parse\u001b[39m\n    data_dicts = p.parse_data()\n",
      "  File \u001b[92md:\\DownLoad\\projects\\Search Engine\\Olivia_Searchengine\\venv\\Lib\\site-packages\\pandas\\io\\xml.py:556\u001b[39m in \u001b[95mparse_data\u001b[39m\n    self.xml_doc = self._parse_doc(self.path_or_buffer)\n",
      "  File \u001b[92md:\\DownLoad\\projects\\Search Engine\\Olivia_Searchengine\\venv\\Lib\\site-packages\\pandas\\io\\xml.py:647\u001b[39m in \u001b[95m_parse_doc\u001b[39m\n    document = fromstring(\n",
      "  File \u001b[92msrc\\\\lxml\\\\etree.pyx:3307\u001b[39m in \u001b[95mlxml.etree.fromstring\u001b[39m\n",
      "  File \u001b[92msrc\\\\lxml\\\\parser.pxi:1995\u001b[39m in \u001b[95mlxml.etree._parseMemoryDocument\u001b[39m\n",
      "  File \u001b[92msrc\\\\lxml\\\\parser.pxi:1882\u001b[39m in \u001b[95mlxml.etree._parseDoc\u001b[39m\n",
      "  File \u001b[92msrc\\\\lxml\\\\parser.pxi:1164\u001b[39m in \u001b[95mlxml.etree._BaseParser._parseDoc\u001b[39m\n",
      "  File \u001b[92msrc\\\\lxml\\\\parser.pxi:633\u001b[39m in \u001b[95mlxml.etree._ParserContext._handleParseResultDoc\u001b[39m\n",
      "  File \u001b[92msrc\\\\lxml\\\\parser.pxi:743\u001b[39m in \u001b[95mlxml.etree._handleParseResult\u001b[39m\n",
      "\u001b[36m  \u001b[39m\u001b[36mFile \u001b[39m\u001b[32msrc\\\\lxml\\\\parser.pxi:672\u001b[39m\u001b[36m in \u001b[39m\u001b[35mlxml.etree._raiseParseError\u001b[39m\n",
      "  \u001b[36mFile \u001b[39m\u001b[32m<string>:1\u001b[39m\n\u001b[31mXMLSyntaxError\u001b[39m\u001b[31m:\u001b[39m Start tag expected, '<' not found, line 1, column 1\n"
     ]
    }
   ],
   "source": [
    "data=pd.read_xml('D:\\DownLoad\\projects\\Search Engine\\Olivia_Searchengine\\datacollection\\cran\\cranfield-trec-dataset\\cran.all.1400.xml')\n",
    "dataframe=pd.DataFrame(data)\n",
    "print(dataframe.head())"
   ]
  }
 ],
 "metadata": {
  "kernelspec": {
   "display_name": "venv",
   "language": "python",
   "name": "python3"
  },
  "language_info": {
   "codemirror_mode": {
    "name": "ipython",
    "version": 3
   },
   "file_extension": ".py",
   "mimetype": "text/x-python",
   "name": "python",
   "nbconvert_exporter": "python",
   "pygments_lexer": "ipython3",
   "version": "3.12.7"
  }
 },
 "nbformat": 4,
 "nbformat_minor": 2
}
