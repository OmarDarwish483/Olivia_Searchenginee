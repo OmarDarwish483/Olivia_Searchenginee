{
 "cells": [
  {
   "cell_type": "markdown",
   "metadata": {},
   "source": [
    "ii. Document Formats:\n",
    " Choose a format that can be easily parsed and indexed for text analysis.\n",
    "Common formats include plain text files (.txt), CSV files, JSON files, or\n",
    "structured databases.\n"
   ]
  },
  {
   "cell_type": "code",
   "execution_count": 1,
   "metadata": {},
   "outputs": [],
   "source": [
    "import pandas as pd\n",
    "import xml.etree.ElementTree as ET\n",
    "import csv"
   ]
  },
  {
   "cell_type": "code",
   "execution_count": 2,
   "metadata": {},
   "outputs": [
    {
     "name": "stderr",
     "output_type": "stream",
     "text": [
      "<>:1: SyntaxWarning: invalid escape sequence '\\D'\n",
      "<>:3: SyntaxWarning: invalid escape sequence '\\D'\n",
      "<>:1: SyntaxWarning: invalid escape sequence '\\D'\n",
      "<>:3: SyntaxWarning: invalid escape sequence '\\D'\n",
      "C:\\Users\\Omar\\AppData\\Local\\Temp\\ipykernel_20036\\3365938177.py:1: SyntaxWarning: invalid escape sequence '\\D'\n",
      "  tree = ET.parse(\"D:\\DownLoad\\projects\\Search Engine\\Olivia_Searchengine\\datacollection\\cran\\cran.all.1400.xml\")\n",
      "C:\\Users\\Omar\\AppData\\Local\\Temp\\ipykernel_20036\\3365938177.py:3: SyntaxWarning: invalid escape sequence '\\D'\n",
      "  with open (\"D:\\DownLoad\\projects\\Search Engine\\Olivia_Searchengine\\datacollection\\output\\cran.all.1400.csv\",'w',newline=\"\",encoding='utf-8') as csv_file :\n"
     ]
    }
   ],
   "source": [
    "tree = ET.parse(\"D:\\DownLoad\\projects\\Search Engine\\Olivia_Searchengine\\datacollection\\cran\\cran.all.1400.xml\")\n",
    "root = tree.getroot()\n",
    "with open (\"D:\\DownLoad\\projects\\Search Engine\\Olivia_Searchengine\\datacollection\\output\\cran.all.1400.csv\",'w',newline=\"\",encoding='utf-8') as csv_file :\n",
    "    writer=csv.writer(csv_file)\n",
    "    writer.writerow(['Doc_NO','Title','Bib','Text'])\n",
    "    for doc in root.findall('doc') :\n",
    "        doc_no=doc.find('docno').text\n",
    "        title=doc.find('title').text\n",
    "        bib=doc.find('bib').text\n",
    "        text=doc.find('text').text\n",
    "        writer.writerow([doc_no,title,bib,text])\n",
    "\n"
   ]
  }
 ],
 "metadata": {
  "kernelspec": {
   "display_name": "venv",
   "language": "python",
   "name": "python3"
  },
  "language_info": {
   "codemirror_mode": {
    "name": "ipython",
    "version": 3
   },
   "file_extension": ".py",
   "mimetype": "text/x-python",
   "name": "python",
   "nbconvert_exporter": "python",
   "pygments_lexer": "ipython3",
   "version": "3.12.7"
  }
 },
 "nbformat": 4,
 "nbformat_minor": 2
}
