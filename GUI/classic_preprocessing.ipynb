{
 "cells": [
  {
   "cell_type": "code",
   "execution_count": 1,
   "metadata": {},
   "outputs": [],
   "source": [
    "import pandas as pd\n",
    "from sklearn.feature_extraction.text import CountVectorizer\n"
   ]
  },
  {
   "cell_type": "code",
   "execution_count": 2,
   "metadata": {},
   "outputs": [
    {
     "name": "stderr",
     "output_type": "stream",
     "text": [
      "<>:1: SyntaxWarning: invalid escape sequence '\\D'\n",
      "<>:1: SyntaxWarning: invalid escape sequence '\\D'\n",
      "C:\\Users\\Omar\\AppData\\Local\\Temp\\ipykernel_480\\3588916451.py:1: SyntaxWarning: invalid escape sequence '\\D'\n",
      "  data=pd.read_csv(\"D:\\DownLoad\\projects\\Search Engine\\Olivia_Searchengine\\datacollection\\output\\cran.all.1400.csv\")\n"
     ]
    }
   ],
   "source": [
    "data=pd.read_csv(\"D:\\DownLoad\\projects\\Search Engine\\Olivia_Searchengine\\datacollection\\output\\cran.all.1400.csv\")\n",
    "df=pd.DataFrame(data)"
   ]
  },
  {
   "cell_type": "code",
   "execution_count": 3,
   "metadata": {},
   "outputs": [
    {
     "name": "stdout",
     "output_type": "stream",
     "text": [
      "<class 'pandas.core.frame.DataFrame'>\n",
      "RangeIndex: 1400 entries, 0 to 1399\n",
      "Data columns (total 4 columns):\n",
      " #   Column  Non-Null Count  Dtype \n",
      "---  ------  --------------  ----- \n",
      " 0   Doc_NO  1400 non-null   int64 \n",
      " 1   Title   1398 non-null   object\n",
      " 2   Bib     1330 non-null   object\n",
      " 3   Text    1398 non-null   object\n",
      "dtypes: int64(1), object(3)\n",
      "memory usage: 43.9+ KB\n"
     ]
    }
   ],
   "source": [
    "df['Title'].isna().sum()\n",
    "df.info()"
   ]
  },
  {
   "cell_type": "code",
   "execution_count": 4,
   "metadata": {},
   "outputs": [
    {
     "name": "stdout",
     "output_type": "stream",
     "text": [
      "0    experimental investigation of the aerodynamics...\n",
      "1    simple shear flow past a flat plate in an inco...\n",
      "2    the boundary layer in simple shear flow past a...\n",
      "3    approximate solutions of the incompressible la...\n",
      "4    one-dimensional transient heat conduction into...\n",
      "Name: Title, dtype: object\n"
     ]
    }
   ],
   "source": [
    "df=df.dropna()\n",
    "print(df['Title'].head())"
   ]
  },
  {
   "cell_type": "code",
   "execution_count": 5,
   "metadata": {},
   "outputs": [
    {
     "name": "stdout",
     "output_type": "stream",
     "text": [
      "['ablating' 'ablation' 'accelerated' 'accelerating' 'according'\n",
      " 'accumulation' 'accuracy' 'acoustic' 'acoustical' 'acting' 'action'\n",
      " 'active' 'adapted' 'addendum' 'addition' 'adiabatic' 'adjacent'\n",
      " 'advances' 'advancing' 'advantages' 'adverse' 'aerelastic' 'aerodynamic'\n",
      " 'aerodynamically' 'aerodynamics' 'aeroelastic' 'aeroelastician'\n",
      " 'aerofoil' 'aerofoils' 'aeronautical' 'aerothermoelastic' 'affecting'\n",
      " 'afterbodies' 'afterbody' 'ahead' 'aileron' 'air' 'aircraft' 'airflow'\n",
      " 'airflows' 'airfoil' 'airfoils' 'airforces' 'airframe' 'airplane'\n",
      " 'airplanes' 'airspeeds' 'airstream' 'alleviating' 'allowable' 'alloy'\n",
      " 'alloys' 'alternative' 'altitude' 'altitudes' 'aluminium' 'amplitude'\n",
      " 'analog' 'analogies' 'analogue' 'analogues' 'analogy' 'analyses'\n",
      " 'analysing' 'analysis' 'analytic' 'analytical' 'angle' 'angles'\n",
      " 'angularly' 'annular' 'annulus' 'app' 'apparatus' 'appendix'\n",
      " 'applicability' 'applicable' 'application' 'applications' 'applied'\n",
      " 'approach' 'approaching' 'approximate' 'approximation' 'approximations'\n",
      " 'arbitrary' 'arising' 'arrangements' 'artificial' 'ascending']\n"
     ]
    }
   ],
   "source": [
    "import re\n",
    "from sklearn.feature_extraction.text import CountVectorizer\n",
    "\n",
    "df['Title'] = df['Title'].apply(lambda x: re.sub(r'\\b\\d+\\b', '', x)) \n",
    "\n",
    "vectorizer = CountVectorizer(binary=True, stop_words=\"english\", lowercase=True, \n",
    "                             token_pattern=r'\\b[a-zA-Z]+\\b') \n",
    "vector = vectorizer.fit_transform(df['Title'])\n",
    "\n",
    "print(vectorizer.get_feature_names_out()[:90]) \n",
    "\n",
    "term=vectorizer.get_feature_names_out()\n"
   ]
  },
  {
   "cell_type": "code",
   "execution_count": 6,
   "metadata": {},
   "outputs": [],
   "source": [
    "#Stemming \n",
    "from nltk.stem import PorterStemmer,SnowballStemmer,LancasterStemmer\n",
    "\n"
   ]
  },
  {
   "cell_type": "code",
   "execution_count": 7,
   "metadata": {},
   "outputs": [],
   "source": [
    "prstem=PorterStemmer()\n",
    "snstem=SnowballStemmer(language=\"english\")\n",
    "lastem=LancasterStemmer()\n",
    "\n"
   ]
  },
  {
   "cell_type": "code",
   "execution_count": 8,
   "metadata": {},
   "outputs": [
    {
     "name": "stdout",
     "output_type": "stream",
     "text": [
      "['ablat', 'ablat', 'acceler', 'acceler', 'accord', 'accumul', 'accuraci', 'acoust', 'acoust', 'act', 'action', 'activ', 'adapt', 'addendum', 'addit', 'adiabat', 'adjac', 'advanc', 'advanc', 'advantag', 'advers', 'aerelast', 'aerodynam', 'aerodynam', 'aerodynam', 'aeroelast', 'aeroelastician', 'aerofoil', 'aerofoil', 'aeronaut', 'aerothermoelast', 'affect', 'afterbodi', 'afterbodi', 'ahead', 'aileron', 'air', 'aircraft', 'airflow', 'airflow', 'airfoil', 'airfoil', 'airforc', 'airfram', 'airplan', 'airplan', 'airspe', 'airstream', 'allevi', 'allow', 'alloy', 'alloy', 'altern', 'altitud', 'altitud', 'aluminium', 'amplitud', 'analog', 'analog', 'analogu', 'analogu', 'analog', 'analys', 'analys', 'analysi', 'analyt', 'analyt', 'angl', 'angl', 'angularli', 'annular', 'annulu', 'app', 'apparatu', 'appendix', 'applic', 'applic', 'applic', 'applic', 'appli', 'approach', 'approach', 'approxim', 'approxim', 'approxim', 'arbitrari', 'aris', 'arrang', 'artifici', 'ascend', 'aspect', 'aspect', 'assess', 'associ', 'assumpt', 'asymmetr', 'asymmetr', 'asymptot', 'atmospher', 'atmospher', 'atmospher', 'atom', 'atom', 'attach', 'attach', 'attack', 'attain', 'attenu', 'audio', 'automat', 'auxiliari', 'axe', 'axi', 'axial', 'axial', 'axi', 'axisymmetr', 'axisymmetr', 'ballist', 'ballist', 'band', 'band', 'base', 'base', 'basic', 'bay', 'beam', 'beam', 'bear', 'bedford', 'behaviour', 'bend', 'biharmon', 'billow', 'biot', 'blade', 'blade', 'blasiu', 'blast', 'blockag', 'blow', 'bluff', 'blunt', 'blunt', 'blunt', 'blunt', 'bodi', 'bodt', 'bodi', 'bomber', 'boom', 'boom', 'bounari', 'bound', 'boundari', 'boundari', 'bound', 'bow', 'breath', 'buckl', 'buckl', 'buckl', 'buffet', 'bump', 'buri', 'burn', 'busemann', 'buzz', 'calcul', 'calcul', 'calcul', 'calcul', 'calibr', 'camber', 'camber', 'cancel', 'cantilev', 'cap', 'capabl', 'capillari', 'carbon', 'caret', 'cascad', 'cascad', 'case', 'caus', 'caution', 'cavit', 'cavit', 'caviti', 'center', 'central', 'central', 'centr', 'centrifug', 'certain', 'chang', 'chang', 'chang', 'channel', 'channel', 'characterist', 'characterist', 'charg', 'chart', 'chemic', 'chemic', 'choke', 'choke', 'chord', 'chord', 'chordwis', 'circl', 'circular', 'circulatori', 'circumferenti', 'clamp', 'class', 'climb', 'close', 'close', 'close', 'close', 'coaxial', 'code', 'coeffici', 'coeffici', 'cold', 'collaps', 'collect', 'column', 'column', 'combin', 'combin', 'combin', 'combust', 'combust', 'comment', 'comment', 'compar', 'compar', 'comparison', 'comparison', 'compil', 'complet', 'compon', 'composit', 'compress', 'compress', 'compress', 'compress', 'compress', 'compressor', 'compressor', 'comput', 'comput', 'comput', 'comput', 'concentr', 'concept', 'concept', 'conceptu', 'concern', 'condit', 'conduct', 'conduct', 'conduct', 'conductor', 'cone', 'cone', 'configur', 'configur', 'conform', 'conic', 'conic', 'connect', 'conpress', 'conserv', 'consider', 'consider', 'consist', 'constant', 'constant', 'constraint', 'constraint', 'construct', 'contact', 'continu', 'contour', 'contract', 'contribut', 'control', 'control', 'control', 'convect', 'convect', 'convect', 'converg', 'converg', 'cool', 'cool', 'core', 'corner', 'corner', 'corner', 'correct', 'correl', 'correl', 'corridor', 'corridor', 'corrug', 'couett', 'coundari', 'coupl', 'coupl', 'cover', 'cowl', 'creep', 'criteria', 'critic', 'crocco', 'crop', 'cross', 'cross', 'cruciform', 'cruis', 'cumul', 'current', 'curtain', 'curvatur', 'curv', 'curv', 'curvilinear', 'cyclic', 'cycl', 'cylind', 'cylinder', 'cylind', 'cylindr', 'damag', 'damp', 'dash', 'data', 'decay', 'decay', 'deceler', 'deceler', 'deceler', 'decrement', 'deflect', 'deflect', 'deflect', 'deform', 'deform', 'delta', 'densiti', 'densiti', 'departur', 'depend', 'depth', 'deriv', 'deriv', 'deriv', 'descend', 'descript', 'design', 'design', 'design', 'detach', 'detach', 'detect', 'determin', 'determin', 'determin', 'determin', 'deton', 'develop', 'develop', 'develop', 'devic', 'diatom', 'differ', 'differ', 'differenti', 'diffus', 'diffus', 'digit', 'dihedr', 'dimension', 'dimens', 'dioxid', 'direct', 'direct', 'disc', 'discharg', 'discontinu', 'discover', 'discret', 'disc', 'discuss', 'disk', 'disloc', 'dispers', 'displac', 'displac', 'dissip', 'dissoci', 'dissoci', 'dissoci', 'distanc', 'distribut', 'distribut', 'distribut', 'disturb', 'disturb', 'diurnal', 'diverg', 'diverg', 'dodecagon', 'donnel', 'doubl', 'downstream', 'downward', 'downwash', 'drag', 'drag', 'driest', 'driven', 'driver', 'duct', 'dynam', 'dynam', 'e', 'earth', 'eccentr', 'econom', 'eddi', 'edg', 'edg', 'effect', 'effect', 'effect', 'effect', 'elast', 'elast', 'electr', 'electr', 'electron', 'element', 'ellipsoid', 'ellipt', 'elong', 'embed', 'emphasi', 'employ', 'employ', 'encount', 'end', 'end', 'energi', 'engin', 'engin', 'engin', 'engin', 'engin', 'enter', 'enthalpi', 'entranc', 'entri', 'entri', 'envelop', 'environ', 'environ', 'equat', 'equat', 'equilibrium', 'equip', 'equival', 'eros', 'establish', 'estim', 'estim', 'estim', 'ethylen', 'evalu', 'event', 'exact', 'examin', 'exampl', 'exceed', 'excit', 'excit', 'excresc', 'exert', 'exhaust', 'exhaust', 'exit', 'expand', 'expans', 'expans', 'expenditur', 'experi', 'experi', 'experiment', 'experi', 'explicit', 'exploratori', 'explos', 'expos', 'express', 'extend', 'extens', 'extens', 'extern', 'extrem', 'f', 'face', 'face', 'factor', 'factor', 'failur', 'falkner', 'famili', 'fan', 'far', 'farnborough', 'fatigu', 'featur', 'feet', 'field', 'field', 'fin', 'find', 'fine', 'finit', 'fin', 'fin', 'fire', 'fix', 'flame', 'flap', 'flap', 'flare', 'flare', 'flat', 'flexibl', 'flexibl', 'flexur', 'flexur', 'flight', 'flight', 'flow', 'flowmet', 'flow', 'fluctuat', 'fluctuat', 'fluid', 'fluid', 'flutter', 'fli', 'foil', 'fold', 'foot', 'forc', 'forc', 'forc', 'fore', 'forebodi', 'foreign', 'form', 'format', 'form', 'formula', 'formula', 'formula', 'formul', 'forst', 'forward', 'fourier', 'fourth', 'franc', 'free', 'freedom', 'freeli', 'freon', 'frequenc', 'frequenc', 'friction', 'front', 'frustum', 'fuel', 'fulli', 'function', 'function', 'fundament', 'fundament', 'g', 'ga', 'gasdynam', 'gasdynam', 'gaseou', 'gase', 'gener', 'generalis', 'gener', 'gener', 'gener', 'gener', 'geometr', 'geometr', 'given', 'glanc', 'glass', 'glassi', 'glide', 'glider', 'grade', 'gradient', 'gradient', 'graphic', 'graph', 'gravel', 'graviti', 'greatest', 'gross', 'ground', 'group', 'growth', 'guidanc', 'guid', 'gun', 'gust', 'gust', 'gyroscop', 'half', 'hall', 'hamel', 'handbook', 'hangl', 'havelock', 'have', 'head', 'head', 'heat', 'heat', 'heat', 'heat', 'height', 'helicopt', 'helium', 'hemi', 'hemispher', 'high', 'highli', 'hing', 'histori', 'hodograph', 'hole', 'homogen', 'honeycomb', 'hoop', 'hot', 'hovercraft', 'hub', 'hydrocarbon', 'hydrodynam', 'hydrodynam', 'hydrogen', 'hydrostat', 'hyper', 'hyperbol', 'hyperson', 'hyperveloc', 'hypothesi', 'ideal', 'ideal', 'ignit', 'ii', 'iii', 'illingworth', 'immers', 'impact', 'impel', 'impel', 'imperfect', 'imperfect', 'imping', 'imping', 'improv', 'improv', 'improv', 'inafinit', 'inch', 'incid', 'incid', 'incid', 'inclin', 'includ', 'includ', 'incompress', 'increment', 'incur', 'indic', 'induc', 'induct', 'inelast', 'inequ', 'inert', 'infinit', 'infinit', 'infit', 'influenc', 'inform', 'initi', 'initi', 'inject', 'inject', 'inlet', 'input', 'insect', 'insid', 'instabl', 'instabl', 'instantan', 'instrument', 'insul', 'insul', 'intak', 'integr', 'integr', 'integr', 'intens', 'intens', 'interact', 'interfac', 'interfer', 'interferomet', 'interferometr', 'interior', 'intermedi', 'intern', 'interplanetari', 'interpret', 'invers', 'invert', 'investigaion', 'investig', 'investig', 'investig', 'investig', 'inviscid', 'involv', 'ioniz', 'ioniz', 'ionospher', 'irbm', 'isentrop', 'isol', 'isol', 'isotherm', 'isotrop', 'iter', 'iter', 'iv', 'jeffrey', 'jet', 'jet', 'joint', 'joint', 'joukowski', 'joul', 'junction', 'k', 'kernel', 'kinet', 'kingdom', 'km', 'knudsen', 'lagrangian', 'laminar', 'laminari', 'land', 'langley', 'larg', 'later', 'later', 'latitud', 'lattic', 'launch', 'launch', 'laval', 'law', 'law', 'layer', 'layer', 'lead', 'lee', 'length', 'level', 'liapunov', 'life', 'lift', 'lift', 'light', 'lighthil', 'limit', 'limit', 'line', 'linear', 'linearis', 'linearis', 'linear', 'linear', 'line', 'lingitudin', 'liquid', 'load', 'load', 'load', 'load', 'load', 'local', 'locat', 'locat', 'logarithm', 'long', 'longitudin', 'longitudin', 'low', 'lower', 'lubric', 'lumin', 'lunar', 'lyapunov', 'm', 'mach', 'machin', 'machin', 'magnet', 'magneto', 'magnetoga', 'magnetogasdynam', 'magnetohydrodynam', 'magnetohydrodynam', 'magnu', 'main', 'maintain', 'man', 'manoeuvr', 'map', 'maritim', 'martian', 'mass', 'match', 'materi', 'materi', 'math', 'mathieu', 'matric', 'matric', 'matrix', 'maximum', 'mean', 'mean', 'measur', 'measur', 'measur', 'measur', 'mechan', 'mechan', 'median', 'medium', 'melt', 'membran', 'metal', 'meter', 'methan', 'method', 'method', 'midspan', 'millisecond', 'minimis', 'minim', 'minim', 'minimum', 'misalign', 'miss', 'missil', 'missil', 'mission', 'mix', 'mix', 'mixtur', 'mixtur', 'model', 'model', 'moder', 'mode', 'modif', 'modifi', 'modul', 'molecular', 'molecul', 'moment', 'moment', 'momentum', 'monatom', 'motion', 'motion', 'mount', 'move', 'multi', 'multilay', 'multipropel', 'multiweb', 'mw', 'n', 'naca', 'nacel', 'nasa', 'natur', 'navier', 'near', 'nearli', 'neg', 'neglect', 'net', 'neumann', 'new', 'newton', 'newtonian', 'nickel', 'nimon', 'nitrogen', 'nois', 'nomin', 'non', 'nonequilibrium', 'nonlinear', 'nonparallel', 'nonplanar', 'nonsimilar', 'nonstationari', 'nonuniform', 'nonvisc', 'normal', 'normal', 'nose', 'nose', 'nose', 'note', 'note', 'nozzl', 'nozzl', 'npl', 'number', 'number', 'numer', 'obliqu', 'observ', 'observ', 'observ', 'obtain', 'obtain', 'occurr', 'occur', 'oge', 'ogiv', 'oil', 'onera', 'onic', 'onset', 'oper', 'oper', 'oppos', 'opposit', 'optic', 'optimum', 'orbit', 'orbit', 'order', 'orific', 'orthotrop', 'oscil', 'oscil', 'oscillatori', 'oseen', 'oval', 'overal', 'overexpand', 'p', 'pair', 'panel', 'panel', 'parabol', 'paraboloid', 'parallel', 'parallel', 'paramet', 'paramet', 'partial', 'partial', 'particl', 'particular', 'particularli', 'partli', 'past', 'path', 'path', 'pattern', 'pattern', 'payload', 'perfor', 'perform', 'period', 'period', 'period', 'peripher', 'perpendicular', 'perpendicularli', 'phenomena', 'phenomenon', 'photo', 'physic', 'physic', 'piec', 'pipe', 'pipe', 'piston', 'pitch', 'pitch', 'pitot', 'pivot', 'plan', 'planar', 'plane', 'planetari', 'planform', 'planform', 'plant', 'plasma', 'plast', 'plastic', 'plastic', 'plastic', 'plate', 'plate', 'plk', 'plume', 'plume', 'point', 'point', 'polar', 'polyatom', 'polygon', 'porou', 'posit', 'post', 'postbuckl', 'postpon', 'potenti', 'potenti', 'power', 'practic', 'precess', 'predict', 'predict', 'predict', 'predict', 'preliminari', 'prescrib', 'presenc', 'present', 'pressur', 'pressur', 'pressur', 'pressuris', 'pressur', 'preston', 'prevent', 'principl', 'principl', 'probe', 'probe', 'problem', 'problem', 'procedur', 'process', 'process', 'produc', 'produc', 'product', 'product', 'profil', 'profil', 'programm', 'program', 'progress', 'projectil', 'project', 'prolat', 'proof', 'propag', 'propel', 'propel', 'properti', 'properti', 'propos', 'propuls', 'prospect', 'protect', 'proton', 'proxim', 'pt', 'publish', 'pump', 'pure', 'q', 'qualit', 'qualiti', 'qualiti', 'quantit', 'quarter', 'quartz', 'quasi', 'r', 'radial', 'radiat', 'radi', 'rae', 'random', 'randon', 'rang', 'rapid', 'rarefact', 'rarefi', 'rate', 'rate', 'ratio', 'ratio', 'rayleigh', 'react', 'reaction', 'reaction', 'reactiv', 'real', 'reattach', 'reattach', 'recent', 'reciproc', 'reciproc', 'recombin', 'record', 'recoveri', 'rectangular', 'redesign', 'redirect', 'reduct', 'redund', 'reentri', 'refer', 'refer', 'refin', 'reflect', 'regim', 'regim', 'region', 'region', 'regular', 'reinforc', 'relat', 'relat', 'relat', 'relat', 'relationship', 'relax', 'releas', 'remark', 'render', 'repli', 'report', 'requir', 'requir', 'research', 'resist', 'resist', 'resist', 'respons', 'respons', 'rest', 'restrain', 'restraint', 'result', 'result', 'retrocket', 'return', 'revers', 'revers', 'review', 'revolut', 'reynold', 'rheolog', 'rhombic', 'rigid', 'rigid', 'ring', 'rise', 'rocket', 'rocket', 'role', 'roll', 'roll', 'rotari', 'rotat', 'rotat', 'rotat', 'rotor', 'rough', 'round', 'routin', 'row', 'rule', 's', 'sand', 'sandwich', 'satellit', 'satellit', 'scale', 'scale', 'schubauer', 'scoop', 'second', 'secondari', 'section', 'section', 'section', 'sector', 'sectori', 'sector', 'sedov', 'self', 'semi', 'semicircular', 'semivertex', 'sensor', 'separ', 'separ', 'separ', 'separ', 'seri', 'set', 'sever', 'shallow', 'shape', 'shape', 'shape', 'sharp', 'shear', 'shear', 'sheet', 'shell', 'shell', 'shield', 'shield', 'shock', 'shock', 'short', 'shortcom', 'shroud', 'shyperson', 'sideslip', 'signal', 'similar', 'similar', 'similitud', 'simpl', 'simplifi', 'simpli', 'simul', 'simul', 'simul', 'simultan', 'singl', 'sink', 'sinusoid', 'size', 'skan', 'skin', 'slab', 'slab', 'slender', 'slider', 'slight', 'slightli', 'slip', 'slipstream', 'slipstream', 'slope', 'slot', 'slot', 'small', 'smallest', 'smoke', 'snap', 'snap', 'sobson', 'sodium', 'soft', 'solar', 'solid', 'solid', 'solut', 'solut', 'solv', 'som', 'sonic', 'sound', 'sound', 'sourc', 'sourc', 'southwel', 'space', 'spacecraft', 'space', 'span', 'span', 'spanwis', 'special', 'specifi', 'spectra', 'spectrum', 'speed', 'speed', 'sphere', 'sphere', 'spheric', 'spheric', 'spheric', 'spheroid', 'spike', 'spinner', 'spin', 'split', 'splitter', 'spread', 'spring', 'squar', 'squir', 'stabil', 'stabil', 'stabil', 'stabl', 'stack', 'stage', 'stage', 'stagnat', 'stainless', 'stall', 'stall', 'standard', 'standoff', 'stanton', 'start', 'state', 'state', 'static', 'stationari', 'statist', 'stator', 'steadi', 'steel', 'step', 'step', 'stewartson', 'stiffen', 'stiffen', 'stiffen', 'stiff', 'sting', 'stoke', 'stol', 'straight', 'strain', 'stratiform', 'stream', 'stream', 'streamwis', 'strength', 'stress', 'stress', 'stress', 'stretch', 'stringer', 'stringer', 'strip', 'strip', 'strong', 'structur', 'structur', 'structur', 'studi', 'studi', 'studi', 'subaudio', 'subject', 'subject', 'sublay', 'sublim', 'subson', 'suction', 'summari', 'super', 'supercircular', 'supercrit', 'superson', 'supplort', 'support', 'support', 'support', 'surfac', 'surfac', 'survey', 'survey', 'sustain', 'sustain', 'sweat', 'sweep', 'sweepback', 'swept', 'sweptback', 'sweptw', 'swirl', 'symmetr', 'symmetr', 'symmetr', 'systemat', 'systemat', 'system', 't', 'tab', 'tabl', 'tabul', 'tabul', 'tail', 'tailor', 'tailplan', 'taper', 'taylor', 'techniqu', 'techniqu', 'teflon', 'temp', 'temperatur', 'temperatur', 'tension', 'terrain', 'test', 'test', 'test', 'theorem', 'theoret', 'theori', 'theori', 'thermal', 'thermo', 'thermodynam', 'thermodynam', 'thermoelast', 'thermoelast', 'thick', 'throat', 'thrust', 'tilt', 'tilt', 'time', 'time', 'tip', 'tool', 'toricon', 'torispher', 'toroid', 'torsion', 'torsion', 'trail', 'trail', 'trail', 'trajectori', 'tran', 'transfer', 'transform', 'transform', 'transient', 'transit', 'transit', 'transon', 'transpir', 'transport', 'transtabl', 'transvers', 'transvers', 'travel', 'travel', 'travers', 'treatment', 'treatment', 'truncat', 'tube', 'tube', 'tubul', 'tumbl', 'tunnel', 'tunnel', 'turbin', 'turbin', 'turbo', 'turbojet', 'turbulen', 'turbul', 'turbul', 'twin', 'twist', 'type', 'type', 'typic', 'u', 'ultra', 'uncamb', 'unifi', 'uniform', 'uniformli', 'unit', 'unit', 'uniti', 'unsteadili', 'unsteadi', 'unsteadi', 'unstiffen', 'unswept', 'unyaw', 'upper', 'upstream', 'use', 'use', 'use', 'util', 'v', 'valid', 'valu', 'valu', 'van', 'vane', 'vapor', 'variabl', 'variabl', 'variat', 'variat', 'variat', 'vari', 'variou', 'vari', 'vector', 'vehicl', 'vehicl', 'veloc', 'veloc', 'venturi', 'vertex', 'vertic', 'vessel', 'vessel', 'vi', 'vibrat', 'vibrat', 'vibrat', 'vibrat', 'viii', 'viscos', 'viscou', 'visualis', 'visual', 'volum', 'vortex', 'vortic', 'vortic', 'vtol', 'wake', 'wake', 'wall', 'wall', 'wall', 'warren', 'water', 'wave', 'wave', 'weak', 'weapon', 'web', 'wedg', 'weight', 'wich', 'wide', 'width', 'wind', 'wing', 'wing', 'wing', 'wingtip', 'wise', 'work', 'work', 'wrinkl', 'wrinkl', 'x', 'yaw', 'yaw', 'yaw', 'yield', 'z', 'zero', 'zone', 'zoom']\n",
      "-------------------------------------------------------------------\n",
      "['abl', 'abl', 'accel', 'accel', 'accord', 'accum', 'acc', 'acoust', 'acoust', 'act', 'act', 'act', 'adapt', 'addend', 'addit', 'adiab', 'adjac', 'adv', 'adv', 'adv', 'advers', 'aerelast', 'aerodynam', 'aerodynam', 'aerodynam', 'aeroelast', 'aeroelast', 'aerofoil', 'aerofoil', 'aeronaut', 'aerothermoelast', 'affect', 'afterbody', 'afterbody', 'ahead', 'aileron', 'air', 'aircraft', 'airflow', 'airflow', 'airfoil', 'airfoil', 'airforc', 'airfram', 'airpl', 'airpl', 'airspee', 'airstream', 'allevy', 'allow', 'alloy', 'alloy', 'altern', 'altitud', 'altitud', 'alumin', 'amplitud', 'analog', 'analog', 'analog', 'analog', 'analog', 'analys', 'analys', 'analys', 'analys', 'analys', 'angl', 'angl', 'angul', 'annul', 'annul', 'ap', 'apparat', 'appendix', 'appl', 'appl', 'apply', 'apply', 'apply', 'approach', 'approach', 'approxim', 'approxim', 'approxim', 'arbit', 'ar', 'arrang', 'art', 'ascend', 'aspect', 'aspect', 'assess', 'assocy', 'assum', 'asymmet', 'asymmet', 'asymptot', 'atmosph', 'atmosph', 'atmosph', 'atom', 'atom', 'attach', 'attach', 'attack', 'attain', 'attenu', 'audio', 'autom', 'auxy', 'ax', 'ax', 'ax', 'ax', 'ax', 'axisymmet', 'axisymmet', 'bal', 'bal', 'band', 'band', 'bas', 'bas', 'bas', 'bay', 'beam', 'beam', 'bear', 'bedford', 'behavio', 'bend', 'biharmon', 'billow', 'biot', 'blad', 'blad', 'blasi', 'blast', 'block', 'blow', 'bluff', 'blunt', 'blunt', 'blunt', 'blunt', 'body', 'bodt', 'body', 'bomb', 'boom', 'boom', 'boun', 'bound', 'bound', 'bound', 'bound', 'bow', 'breath', 'buckl', 'buckl', 'buckl', 'buffet', 'bump', 'bury', 'burn', 'buseman', 'buzz', 'calc', 'calc', 'calc', 'calc', 'calibr', 'camb', 'camb', 'cancel', 'cantilev', 'cap', 'cap', 'capil', 'carbon', 'caret', 'cascad', 'cascad', 'cas', 'caus', 'caut', 'cavit', 'cavit', 'cav', 'cent', 'cent', 'cent', 'cent', 'centrifug', 'certain', 'chang', 'chang', 'chang', 'channel', 'channel', 'charact', 'charact', 'charg', 'chart', 'chem', 'chem', 'chok', 'chok', 'chord', 'chord', 'chordw', 'circ', 'circul', 'circ', 'circumf', 'clamp', 'class', 'climb', 'clos', 'clos', 'clos', 'clos', 'coax', 'cod', 'coefficy', 'coefficy', 'cold', 'collaps', 'collect', 'column', 'column', 'combin', 'combin', 'combin', 'combust', 'combust', 'com', 'com', 'comp', 'comp', 'comparison', 'comparison', 'compil', 'complet', 'compon', 'composit', 'compress', 'compress', 'compress', 'compress', 'compress', 'compress', 'compress', 'comput', 'comput', 'comput', 'comput', 'cont', 'conceiv', 'conceiv', 'conceiv', 'concern', 'condit', 'conduc', 'conduc', 'conduc', 'conduc', 'con', 'con', 'config', 'config', 'conform', 'con', 'con', 'connect', 'conpress', 'conserv', 'consid', 'consid', 'consist', 'const', 'const', 'constraint', 'constraint', 'construct', 'contact', 'continu', 'conto', 'contract', 'contribut', 'control', 'control', 'control', 'convect', 'convect', 'convect', 'converg', 'converg', 'cool', 'cool', 'cor', 'corn', 'corn', 'corn', 'correct', 'correl', 'correl', 'corrid', 'corrid', 'corrug', 'couet', 'cound', 'coupl', 'coupl', 'cov', 'cowl', 'creep', 'criter', 'crit', 'crocco', 'crop', 'cross', 'cross', 'cruciform', 'cru', 'cum', 'cur', 'curtain', 'curv', 'curv', 'curv', 'curvilinear', 'cyc', 'cyc', 'cylind', 'cylind', 'cylind', 'cylindr', 'dam', 'damp', 'dash', 'dat', 'decay', 'decay', 'decel', 'decel', 'decel', 'decr', 'deflect', 'deflect', 'deflect', 'deform', 'deform', 'delt', 'dens', 'dens', 'depart', 'depend', 'dep', 'der', 'der', 'der', 'descend', 'describ', 'design', 'design', 'design', 'detach', 'detach', 'detect', 'determin', 'determin', 'determin', 'determin', 'deton', 'develop', 'develop', 'develop', 'dev', 'diatom', 'diff', 'diff', 'diff', 'diffus', 'diffus', 'digit', 'dihedr', 'dimend', 'dimend', 'dioxid', 'direct', 'direct', 'disc', 'discharg', 'discontinu', 'discov', 'discret', 'disc', 'discuss', 'disk', 'disloc', 'dispers', 'displac', 'displac', 'dissip', 'dissocy', 'dissocy', 'dissocy', 'dist', 'distribut', 'distribut', 'distribut', 'disturb', 'disturb', 'diurn', 'diverg', 'diverg', 'dodecagon', 'donnel', 'doubl', 'downstream', 'downward', 'downwash', 'drag', 'drag', 'driest', 'driv', 'driv', 'duc', 'dynam', 'dynam', 'e', 'ear', 'ecc', 'econom', 'eddy', 'edg', 'edg', 'effect', 'effect', 'effect', 'effect', 'elast', 'elast', 'elect', 'elect', 'electron', 'el', 'ellipsoid', 'ellipt', 'elong', 'embed', 'emphas', 'employ', 'employ', 'encount', 'end', 'end', 'energy', 'engin', 'engin', 'engin', 'engin', 'engin', 'ent', 'enthalpy', 'ent', 'entry', 'entry', 'envelop', 'environ', 'environ', 'equ', 'equ', 'equilibr', 'equip', 'equ', 'erod', 'est', 'estim', 'estim', 'estim', 'ethyl', 'evalu', 'ev', 'exact', 'examin', 'exampl', 'excess', 'excit', 'excit', 'excresc', 'exert', 'exhaust', 'exhaust', 'exit', 'expand', 'expand', 'expand', 'expendit', 'expery', 'expery', 'expery', 'expery', 'explicit', 'expl', 'explod', 'expos', 'express', 'extend', 'extend', 'extend', 'extern', 'extrem', 'f', 'fac', 'fac', 'fact', 'fact', 'fail', 'falkn', 'famy', 'fan', 'far', 'farnborough', 'fatigu', 'feat', 'feet', 'field', 'field', 'fin', 'find', 'fin', 'finit', 'fin', 'fin', 'fir', 'fix', 'flam', 'flap', 'flap', 'flar', 'flar', 'flat', 'flex', 'flex', 'flex', 'flex', 'flight', 'flight', 'flow', 'flowmet', 'flow', 'fluctu', 'fluctu', 'fluid', 'fluid', 'flut', 'fly', 'foil', 'fold', 'foot', 'forc', 'forc', 'forc', 'for', 'forebody', 'foreign', 'form', 'form', 'form', 'formul', 'formula', 'formula', 'form', 'forst', 'forward', 'foury', 'four', 'frant', 'fre', 'freedom', 'fre', 'freon', 'frequ', 'frequ', 'frict', 'front', 'frustum', 'fuel', 'ful', 'funct', 'funct', 'funda', 'funda', 'g', 'gas', 'gasdynam', 'gasdynam', 'gas', 'gas', 'gen', 'gen', 'gen', 'gen', 'gen', 'gen', 'geomet', 'geomet', 'giv', 'glant', 'glass', 'glassy', 'glid', 'glid', 'grad', 'grady', 'grady', 'graph', 'graph', 'gravel', 'grav', 'greatest', 'gross', 'ground', 'group', 'grow', 'guid', 'guid', 'gun', 'gust', 'gust', 'gyroscop', 'half', 'hal', 'hamel', 'handbook', 'hangl', 'havelock', 'hav', 'head', 'head', 'heat', 'heat', 'heat', 'heat', 'height', 'helicopt', 'hel', 'hem', 'hemisph', 'high', 'high', 'hing', 'hist', 'hodograph', 'hol', 'homog', 'honeycomb', 'hoop', 'hot', 'hovercraft', 'hub', 'hydrocarbon', 'hydrodynam', 'hydrodynam', 'hydrog', 'hydrost', 'hyp', 'hyperbol', 'hyperson', 'hyperveloc', 'hypothes', 'id', 'id', 'ignit', 'ii', 'ii', 'illingwor', 'immers', 'impact', 'impel', 'impel', 'imperfect', 'imperfect', 'imp', 'imp', 'improv', 'improv', 'improv', 'inafinit', 'inch', 'incid', 'incid', 'incid', 'inclin', 'includ', 'includ', 'incompress', 'incr', 'incur', 'ind', 'induc', 'induc', 'inelast', 'ineq', 'inert', 'infinit', 'infinit', 'infit', 'influ', 'inform', 'init', 'init', 'inject', 'inject', 'inlet', 'input', 'insect', 'insid', 'inst', 'inst', 'inst', 'instru', 'ins', 'ins', 'intak', 'integr', 'integr', 'integr', 'intens', 'intens', 'interact', 'interfac', 'interf', 'interferomet', 'interferomet', 'intery', 'intermedy', 'intern', 'interplanet', 'interpret', 'invert', 'invert', 'investiga', 'investig', 'investig', 'investig', 'investig', 'inviscid', 'involv', 'ion', 'ion', 'ionosph', 'irbm', 'isentrop', 'isol', 'isol', 'isotherm', 'isotrop', 'it', 'it', 'iv', 'jeffrey', 'jet', 'jet', 'joint', 'joint', 'joukowsky', 'joul', 'junct', 'k', 'kernel', 'kinet', 'kingdom', 'km', 'knuds', 'lagrang', 'lamin', 'lamin', 'land', 'langley', 'larg', 'lat', 'lat', 'latitud', 'lat', 'launch', 'launch', 'lav', 'law', 'law', 'lay', 'lay', 'lead', 'lee', 'leng', 'level', 'liapunov', 'lif', 'lift', 'lift', 'light', 'lighthil', 'limit', 'limit', 'lin', 'linear', 'linear', 'linear', 'linear', 'linear', 'lin', 'lingitudin', 'liquid', 'load', 'load', 'load', 'load', 'load', 'loc', 'loc', 'loc', 'logarithm', 'long', 'longitudin', 'longitudin', 'low', 'low', 'lubr', 'lumin', 'lun', 'lyapunov', 'm', 'mach', 'machin', 'machin', 'magnet', 'magneto', 'magnetoga', 'magnetogasdynam', 'magnetohydrodynam', 'magnetohydrodynam', 'magn', 'main', 'maintain', 'man', 'manoeuvr', 'map', 'maritim', 'mart', 'mass', 'match', 'mat', 'mat', 'math', 'mathieu', 'mat', 'mat', 'matrix', 'maxim', 'mean', 'mean', 'meas', 'meas', 'meas', 'meas', 'mech', 'mech', 'med', 'med', 'melt', 'membr', 'met', 'met', 'meth', 'method', 'method', 'midsp', 'millisecond', 'minim', 'minim', 'minim', 'minim', 'misalign', 'miss', 'missil', 'missil', 'miss', 'mix', 'mix', 'mixt', 'mixt', 'model', 'model', 'mod', 'mod', 'mod', 'mod', 'mod', 'molecul', 'molec', 'mom', 'mom', 'moment', 'monatom', 'mot', 'mot', 'mount', 'mov', 'mult', 'multilay', 'multipropel', 'multiweb', 'mw', 'n', 'nac', 'nacel', 'nas', 'nat', 'navy', 'near', 'near', 'neg', 'neglect', 'net', 'neuman', 'new', 'newton', 'newton', 'nickel', 'nimon', 'nitrog', 'nois', 'nomin', 'non', 'nonequilibr', 'nonlinear', 'nonparallel', 'nonplan', 'nonsimil', 'nonst', 'nonuniform', 'nonvisc', 'norm', 'norm', 'nos', 'nos', 'nos', 'not', 'not', 'nozzl', 'nozzl', 'npl', 'numb', 'numb', 'num', 'obl', 'observ', 'observ', 'observ', 'obtain', 'obtain', 'occur', 'occur', 'og', 'og', 'oil', 'oner', 'on', 'onset', 'op', 'op', 'oppos', 'opposit', 'opt', 'optim', 'orbit', 'orbit', 'ord', 'or', 'orthotrop', 'oscil', 'oscil', 'oscil', 'oseen', 'ov', 'overal', 'overexpand', 'p', 'pair', 'panel', 'panel', 'parabol', 'paraboloid', 'parallel', 'parallel', 'paramet', 'paramet', 'part', 'part', 'partic', 'particul', 'particul', 'part', 'past', 'path', 'path', 'pattern', 'pattern', 'payload', 'perf', 'perform', 'period', 'period', 'period', 'periph', 'perpendicul', 'perpendicul', 'phenomen', 'phenomenon', 'photo', 'phys', 'phys', 'piec', 'pip', 'pip', 'piston', 'pitch', 'pitch', 'pitot', 'pivot', 'plan', 'plan', 'plan', 'planet', 'planform', 'planform', 'plant', 'plasm', 'plast', 'plast', 'plast', 'plast', 'plat', 'plat', 'plk', 'plum', 'plum', 'point', 'point', 'pol', 'polyatom', 'polygon', 'por', 'posit', 'post', 'postbuckl', 'postpon', 'pot', 'pot', 'pow', 'pract', 'precess', 'predict', 'predict', 'predict', 'predict', 'prelimin', 'prescrib', 'pres', 'pres', 'press', 'press', 'press', 'press', 'press', 'preston', 'prev', 'principl', 'principl', 'prob', 'prob', 'problem', 'problem', 'proc', 'process', 'process', 'produc', 'produc', 'produc', 'produc', 'profil', 'profil', 'program', 'program', 'progress', 'projectil', 'project', 'prol', 'proof', 'prop', 'propel', 'propel', 'property', 'property', 'propos', 'propuls', 'prospect', 'protect', 'proton', 'proxim', 'pt', 'publ', 'pump', 'pur', 'q', 'qualit', 'qual', 'qual', 'quantit', 'quart', 'quartz', 'quas', 'r', 'rad', 'rady', 'rady', 'rae', 'random', 'randon', 'rang', 'rapid', 'rarefact', 'rarefy', 'rat', 'rat', 'ratio', 'ratio', 'rayleigh', 'react', 'react', 'react', 'react', 'real', 'reattach', 'reattach', 'rec', 'reciproc', 'reciproc', 'recombin', 'record', 'recovery', 'rectangul', 'redesign', 'redirect', 'reduc', 'redund', 'reentry', 'ref', 'refer', 'refin', 'reflect', 'regim', 'regim', 'reg', 'reg', 'regul', 'reinforc', 'rel', 'rel', 'rel', 'rel', 'rel', 'relax', 'releas', 'remark', 'rend', 'reply', 'report', 'requir', 'requir', 'research', 'resist', 'resist', 'resist', 'respons', 'respons', 'rest', 'restrain', 'restraint', 'result', 'result', 'retrocket', 'return', 'revers', 'revers', 'review', 'revolv', 'reynold', 'rheolog', 'rhomb', 'rigid', 'rigid', 'ring', 'ris', 'rocket', 'rocket', 'rol', 'rol', 'rol', 'rot', 'rot', 'rot', 'rot', 'rot', 'rough', 'round', 'routin', 'row', 'rul', 's', 'sand', 'sandwich', 'satellit', 'satellit', 'scal', 'scal', 'schubauer', 'scoop', 'second', 'second', 'sect', 'sect', 'sect', 'sect', 'sect', 'sect', 'sedov', 'self', 'sem', 'semicircul', 'semivertex', 'sens', 'sep', 'sep', 'sep', 'sep', 'sery', 'set', 'sev', 'shallow', 'shap', 'shap', 'shap', 'sharp', 'shear', 'shear', 'sheet', 'shel', 'shel', 'shield', 'shield', 'shock', 'shock', 'short', 'shortcom', 'shroud', 'shyperson', 'sideslip', 'sign', 'simil', 'simil', 'similitud', 'simpl', 'simpl', 'simply', 'sim', 'sim', 'sim', 'simult', 'singl', 'sink', 'sinusoid', 'siz', 'skan', 'skin', 'slab', 'slab', 'slend', 'slid', 'slight', 'slight', 'slip', 'slipstream', 'slipstream', 'slop', 'slot', 'slot', 'smal', 'smallest', 'smok', 'snap', 'snap', 'sobson', 'sod', 'soft', 'sol', 'solid', 'solid', 'solv', 'solv', 'solv', 'som', 'son', 'sound', 'sound', 'sourc', 'sourc', 'southwel', 'spac', 'spacecraft', 'spac', 'span', 'span', 'spanw', 'spec', 'spec', 'spectr', 'spectr', 'spee', 'spee', 'sphere', 'spheres', 'spheric', 'spherical', 'spherically', 'spheroid', 'spik', 'spin', 'spin', 'split', 'splitter', 'spread', 'spring', 'squ', 'squir', 'stabl', 'stabl', 'stabl', 'stabl', 'stack', 'stag', 'stag', 'stagn', 'stainless', 'stal', 'stal', 'standard', 'standoff', 'stanton', 'start', 'stat', 'stat', 'stat', 'stat', 'stat', 'stat', 'steady', 'steel', 'step', 'step', 'stewartson', 'stiff', 'stiff', 'stiff', 'stiff', 'sting', 'stok', 'stol', 'straight', 'strain', 'stratiform', 'stream', 'streams', 'streamwise', 'strength', 'stress', 'stresses', 'stressing', 'stretching', 'stringer', 'stringers', 'strip', 'strips', 'strong', 'structural', 'structure', 'structures', 'study', 'study', 'study', 'subaudio', 'subject', 'subject', 'sublay', 'sublim', 'subson', 'suct', 'sum', 'sup', 'supercircul', 'supercrit', 'superson', 'supplort', 'support', 'support', 'support', 'surfac', 'surfac', 'survey', 'survey', 'sustain', 'sustain', 'swe', 'sweep', 'sweepback', 'swept', 'sweptback', 'sweptw', 'swirl', 'symmet', 'symmet', 'symmet', 'system', 'system', 'system', 't', 'tab', 'tabl', 'tab', 'tab', 'tail', 'tail', 'tailpl', 'tap', 'tayl', 'techn', 'techn', 'teflon', 'temp', 'temp', 'temp', 'tend', 'terrain', 'test', 'test', 'test', 'theorem', 'theoret', 'the', 'the', 'therm', 'thermo', 'thermodynam', 'thermodynam', 'thermoelast', 'thermoelast', 'thick', 'throat', 'thrust', 'tilt', 'tilt', 'tim', 'tim', 'tip', 'tool', 'toricon', 'torisph', 'toroid', 'tors', 'tors', 'trail', 'trail', 'trail', 'traject', 'tran', 'transf', 'transform', 'transform', 'transy', 'transit', 'transit', 'transon', 'transpir', 'transport', 'transt', 'transvers', 'transvers', 'travel', 'travel', 'travers', 'tre', 'tre', 'trunt', 'tub', 'tub', 'tub', 'tumbl', 'tunnel', 'tunnel', 'turbin', 'turbin', 'turbo', 'turbojet', 'turb', 'turb', 'turb', 'twin', 'twist', 'typ', 'typ', 'typ', 'u', 'ultr', 'uncamb', 'un', 'uniform', 'uniform', 'unit', 'unit', 'un', 'unsteady', 'unsteady', 'unsteady', 'unstiff', 'unswept', 'unyaw', 'up', 'upstream', 'us', 'us', 'us', 'util', 'v', 'valid', 'valu', 'valu', 'van', 'van', 'vap', 'vary', 'vary', 'vary', 'vary', 'vary', 'vary', 'vary', 'vary', 'vect', 'vehic', 'vehic', 'veloc', 'veloc', 'vent', 'vertex', 'vert', 'vessel', 'vessel', 'vi', 'vibr', 'vibr', 'vibr', 'vibr', 'vii', 'viscos', 'visc', 'vis', 'vis', 'volum', 'vortex', 'vort', 'vort', 'vtol', 'wak', 'wak', 'wal', 'wal', 'wal', 'war', 'wat', 'wav', 'wav', 'weak', 'weapon', 'web', 'wedg', 'weight', 'wich', 'wid', 'wid', 'wind', 'wing', 'wing', 'wing', 'wingtip', 'wis', 'work', 'work', 'wrinkl', 'wrinkl', 'x', 'yaw', 'yaw', 'yaw', 'yield', 'z', 'zero', 'zon', 'zoom']\n",
      "-------------------------------------------------------------------\n",
      "['ablat', 'ablat', 'acceler', 'acceler', 'accord', 'accumul', 'accuraci', 'acoust', 'acoust', 'act', 'action', 'activ', 'adapt', 'addendum', 'addit', 'adiabat', 'adjac', 'advanc', 'advanc', 'advantag', 'advers', 'aerelast', 'aerodynam', 'aerodynam', 'aerodynam', 'aeroelast', 'aeroelastician', 'aerofoil', 'aerofoil', 'aeronaut', 'aerothermoelast', 'affect', 'afterbodi', 'afterbodi', 'ahead', 'aileron', 'air', 'aircraft', 'airflow', 'airflow', 'airfoil', 'airfoil', 'airforc', 'airfram', 'airplan', 'airplan', 'airspe', 'airstream', 'allevi', 'allow', 'alloy', 'alloy', 'altern', 'altitud', 'altitud', 'aluminium', 'amplitud', 'analog', 'analog', 'analogu', 'analogu', 'analog', 'analys', 'analys', 'analysi', 'analyt', 'analyt', 'angl', 'angl', 'angular', 'annular', 'annulus', 'app', 'apparatus', 'appendix', 'applic', 'applic', 'applic', 'applic', 'appli', 'approach', 'approach', 'approxim', 'approxim', 'approxim', 'arbitrari', 'aris', 'arrang', 'artifici', 'ascend', 'aspect', 'aspect', 'assess', 'associ', 'assumpt', 'asymmetr', 'asymmetr', 'asymptot', 'atmospher', 'atmospher', 'atmospher', 'atom', 'atom', 'attach', 'attach', 'attack', 'attain', 'attenu', 'audio', 'automat', 'auxiliari', 'axe', 'axi', 'axial', 'axial', 'axi', 'axisymmetr', 'axisymmetr', 'ballist', 'ballist', 'band', 'band', 'base', 'base', 'basic', 'bay', 'beam', 'beam', 'bear', 'bedford', 'behaviour', 'bend', 'biharmon', 'billow', 'biot', 'blade', 'blade', 'blasius', 'blast', 'blockag', 'blow', 'bluff', 'blunt', 'blunt', 'blunt', 'blunt', 'bodi', 'bodt', 'bodi', 'bomber', 'boom', 'boom', 'bounari', 'bound', 'boundari', 'boundari', 'bound', 'bow', 'breath', 'buckl', 'buckl', 'buckl', 'buffet', 'bump', 'buri', 'burn', 'busemann', 'buzz', 'calcul', 'calcul', 'calcul', 'calcul', 'calibr', 'camber', 'camber', 'cancel', 'cantilev', 'cap', 'capabl', 'capillari', 'carbon', 'caret', 'cascad', 'cascad', 'case', 'caus', 'caution', 'cavit', 'cavit', 'caviti', 'center', 'central', 'central', 'centr', 'centrifug', 'certain', 'chang', 'chang', 'chang', 'channel', 'channel', 'characterist', 'characterist', 'charg', 'chart', 'chemic', 'chemic', 'choke', 'choke', 'chord', 'chord', 'chordwis', 'circl', 'circular', 'circulatori', 'circumferenti', 'clamp', 'class', 'climb', 'close', 'close', 'close', 'close', 'coaxial', 'code', 'coeffici', 'coeffici', 'cold', 'collaps', 'collect', 'column', 'column', 'combin', 'combin', 'combin', 'combust', 'combust', 'comment', 'comment', 'compar', 'compar', 'comparison', 'comparison', 'compil', 'complet', 'compon', 'composit', 'compress', 'compress', 'compress', 'compress', 'compress', 'compressor', 'compressor', 'comput', 'comput', 'comput', 'comput', 'concentr', 'concept', 'concept', 'conceptu', 'concern', 'condit', 'conduct', 'conduct', 'conduct', 'conductor', 'cone', 'cone', 'configur', 'configur', 'conform', 'conic', 'conic', 'connect', 'conpress', 'conserv', 'consider', 'consider', 'consist', 'constant', 'constant', 'constraint', 'constraint', 'construct', 'contact', 'continu', 'contour', 'contract', 'contribut', 'control', 'control', 'control', 'convect', 'convect', 'convect', 'converg', 'converg', 'cool', 'cool', 'core', 'corner', 'corner', 'corner', 'correct', 'correl', 'correl', 'corridor', 'corridor', 'corrug', 'couett', 'coundari', 'coupl', 'coupl', 'cover', 'cowl', 'creep', 'criteria', 'critic', 'crocco', 'crop', 'cross', 'cross', 'cruciform', 'cruis', 'cumul', 'current', 'curtain', 'curvatur', 'curv', 'curv', 'curvilinear', 'cyclic', 'cycl', 'cylind', 'cylinder', 'cylind', 'cylindr', 'damag', 'damp', 'dash', 'data', 'decay', 'decay', 'deceler', 'deceler', 'deceler', 'decrement', 'deflect', 'deflect', 'deflect', 'deform', 'deform', 'delta', 'densiti', 'densiti', 'departur', 'depend', 'depth', 'deriv', 'deriv', 'deriv', 'descend', 'descript', 'design', 'design', 'design', 'detach', 'detach', 'detect', 'determin', 'determin', 'determin', 'determin', 'deton', 'develop', 'develop', 'develop', 'devic', 'diatom', 'differ', 'differ', 'differenti', 'diffus', 'diffus', 'digit', 'dihedr', 'dimension', 'dimens', 'dioxid', 'direct', 'direct', 'disc', 'discharg', 'discontinu', 'discover', 'discret', 'disc', 'discuss', 'disk', 'disloc', 'dispers', 'displac', 'displac', 'dissip', 'dissoci', 'dissoci', 'dissoci', 'distanc', 'distribut', 'distribut', 'distribut', 'disturb', 'disturb', 'diurnal', 'diverg', 'diverg', 'dodecagon', 'donnel', 'doubl', 'downstream', 'downward', 'downwash', 'drag', 'drag', 'driest', 'driven', 'driver', 'duct', 'dynam', 'dynam', 'e', 'earth', 'eccentr', 'econom', 'eddi', 'edg', 'edg', 'effect', 'effect', 'effect', 'effect', 'elast', 'elast', 'electr', 'electr', 'electron', 'element', 'ellipsoid', 'ellipt', 'elong', 'embed', 'emphasi', 'employ', 'employ', 'encount', 'end', 'end', 'energi', 'engin', 'engin', 'engin', 'engin', 'engin', 'enter', 'enthalpi', 'entranc', 'entri', 'entri', 'envelop', 'environ', 'environ', 'equat', 'equat', 'equilibrium', 'equip', 'equival', 'eros', 'establish', 'estim', 'estim', 'estim', 'ethylen', 'evalu', 'event', 'exact', 'examin', 'exampl', 'exceed', 'excit', 'excit', 'excresc', 'exert', 'exhaust', 'exhaust', 'exit', 'expand', 'expans', 'expans', 'expenditur', 'experi', 'experi', 'experiment', 'experi', 'explicit', 'exploratori', 'explos', 'expos', 'express', 'extend', 'extens', 'extens', 'extern', 'extrem', 'f', 'face', 'face', 'factor', 'factor', 'failur', 'falkner', 'famili', 'fan', 'far', 'farnborough', 'fatigu', 'featur', 'feet', 'field', 'field', 'fin', 'find', 'fine', 'finit', 'fin', 'fin', 'fire', 'fix', 'flame', 'flap', 'flap', 'flare', 'flare', 'flat', 'flexibl', 'flexibl', 'flexur', 'flexur', 'flight', 'flight', 'flow', 'flowmet', 'flow', 'fluctuat', 'fluctuat', 'fluid', 'fluid', 'flutter', 'fli', 'foil', 'fold', 'foot', 'forc', 'forc', 'forc', 'fore', 'forebodi', 'foreign', 'form', 'format', 'form', 'formula', 'formula', 'formula', 'formul', 'forst', 'forward', 'fourier', 'fourth', 'franc', 'free', 'freedom', 'freeli', 'freon', 'frequenc', 'frequenc', 'friction', 'front', 'frustum', 'fuel', 'fulli', 'function', 'function', 'fundament', 'fundament', 'g', 'gas', 'gasdynam', 'gasdynam', 'gaseous', 'gase', 'general', 'generalis', 'general', 'generat', 'generat', 'generat', 'geometr', 'geometr', 'given', 'glanc', 'glass', 'glassi', 'glide', 'glider', 'grade', 'gradient', 'gradient', 'graphic', 'graph', 'gravel', 'graviti', 'greatest', 'gross', 'ground', 'group', 'growth', 'guidanc', 'guid', 'gun', 'gust', 'gust', 'gyroscop', 'half', 'hall', 'hamel', 'handbook', 'hangl', 'havelock', 'have', 'head', 'head', 'heat', 'heat', 'heat', 'heat', 'height', 'helicopt', 'helium', 'hemi', 'hemispher', 'high', 'high', 'hing', 'histori', 'hodograph', 'hole', 'homogen', 'honeycomb', 'hoop', 'hot', 'hovercraft', 'hub', 'hydrocarbon', 'hydrodynam', 'hydrodynam', 'hydrogen', 'hydrostat', 'hyper', 'hyperbol', 'hyperson', 'hyperveloc', 'hypothesi', 'ideal', 'ideal', 'ignit', 'ii', 'iii', 'illingworth', 'immers', 'impact', 'impel', 'impel', 'imperfect', 'imperfect', 'imping', 'imping', 'improv', 'improv', 'improv', 'inafinit', 'inch', 'incid', 'incid', 'incid', 'inclin', 'includ', 'includ', 'incompress', 'increment', 'incur', 'indic', 'induc', 'induct', 'inelast', 'inequ', 'inert', 'infinit', 'infinit', 'infit', 'influenc', 'inform', 'initi', 'initi', 'inject', 'inject', 'inlet', 'input', 'insect', 'insid', 'instabl', 'instabl', 'instantan', 'instrument', 'insul', 'insul', 'intak', 'integr', 'integr', 'integr', 'intens', 'intens', 'interact', 'interfac', 'interfer', 'interferomet', 'interferometr', 'interior', 'intermedi', 'intern', 'interplanetari', 'interpret', 'invers', 'invert', 'investigaion', 'investig', 'investig', 'investig', 'investig', 'inviscid', 'involv', 'ionize', 'ioniz', 'ionospher', 'irbm', 'isentrop', 'isol', 'isol', 'isotherm', 'isotrop', 'iter', 'iter', 'iv', 'jeffrey', 'jet', 'jet', 'joint', 'joint', 'joukowski', 'joul', 'junction', 'k', 'kernel', 'kinet', 'kingdom', 'km', 'knudsen', 'lagrangian', 'laminar', 'laminari', 'land', 'langley', 'larg', 'later', 'later', 'latitud', 'lattic', 'launch', 'launch', 'laval', 'law', 'law', 'layer', 'layer', 'lead', 'lee', 'length', 'level', 'liapunov', 'life', 'lift', 'lift', 'light', 'lighthil', 'limit', 'limit', 'line', 'linear', 'linearis', 'linearis', 'linear', 'linear', 'line', 'lingitudin', 'liquid', 'load', 'load', 'load', 'load', 'load', 'local', 'locat', 'locat', 'logarithm', 'long', 'longitudin', 'longitudin', 'low', 'lower', 'lubric', 'lumin', 'lunar', 'lyapunov', 'm', 'mach', 'machin', 'machin', 'magnet', 'magneto', 'magnetoga', 'magnetogasdynam', 'magnetohydrodynam', 'magnetohydrodynam', 'magnus', 'main', 'maintain', 'man', 'manoeuvr', 'map', 'maritim', 'martian', 'mass', 'match', 'materi', 'materi', 'math', 'mathieu', 'matric', 'matric', 'matrix', 'maximum', 'mean', 'mean', 'measur', 'measur', 'measur', 'measur', 'mechan', 'mechan', 'median', 'medium', 'melt', 'membran', 'metal', 'meter', 'methan', 'method', 'method', 'midspan', 'millisecond', 'minimis', 'minim', 'minim', 'minimum', 'misalign', 'miss', 'missil', 'missil', 'mission', 'mix', 'mix', 'mixtur', 'mixtur', 'model', 'model', 'moder', 'mode', 'modif', 'modifi', 'modul', 'molecular', 'molecul', 'moment', 'moment', 'momentum', 'monatom', 'motion', 'motion', 'mount', 'move', 'multi', 'multilay', 'multipropel', 'multiweb', 'mw', 'n', 'naca', 'nacell', 'nasa', 'natur', 'navier', 'near', 'near', 'negat', 'neglect', 'net', 'neumann', 'new', 'newton', 'newtonian', 'nickel', 'nimon', 'nitrogen', 'nois', 'nomin', 'non', 'nonequilibrium', 'nonlinear', 'nonparallel', 'nonplanar', 'nonsimilar', 'nonstationari', 'nonuniform', 'nonvisc', 'normal', 'normal', 'nose', 'nose', 'nose', 'note', 'note', 'nozzl', 'nozzl', 'npl', 'number', 'number', 'numer', 'obliqu', 'observ', 'observ', 'observ', 'obtain', 'obtain', 'occurr', 'occur', 'oge', 'ogiv', 'oil', 'onera', 'onic', 'onset', 'oper', 'oper', 'oppos', 'opposit', 'optic', 'optimum', 'orbit', 'orbit', 'order', 'orific', 'orthotrop', 'oscil', 'oscil', 'oscillatori', 'oseen', 'oval', 'overal', 'overexpand', 'p', 'pair', 'panel', 'panel', 'parabol', 'paraboloid', 'parallel', 'parallel', 'paramet', 'paramet', 'partial', 'partial', 'particl', 'particular', 'particular', 'part', 'past', 'path', 'path', 'pattern', 'pattern', 'payload', 'perfor', 'perform', 'period', 'period', 'period', 'peripher', 'perpendicular', 'perpendicular', 'phenomena', 'phenomenon', 'photo', 'physic', 'physic', 'piec', 'pipe', 'pipe', 'piston', 'pitch', 'pitch', 'pitot', 'pivot', 'plan', 'planar', 'plane', 'planetari', 'planform', 'planform', 'plant', 'plasma', 'plast', 'plastic', 'plastic', 'plastic', 'plate', 'plate', 'plk', 'plume', 'plume', 'point', 'point', 'polar', 'polyatom', 'polygon', 'porous', 'posit', 'post', 'postbuckl', 'postpon', 'potenti', 'potenti', 'power', 'practic', 'precess', 'predict', 'predict', 'predict', 'predict', 'preliminari', 'prescrib', 'presenc', 'present', 'pressur', 'pressur', 'pressur', 'pressuris', 'pressur', 'preston', 'prevent', 'principl', 'principl', 'probe', 'probe', 'problem', 'problem', 'procedur', 'process', 'process', 'produc', 'produc', 'product', 'product', 'profil', 'profil', 'programm', 'program', 'progress', 'projectil', 'project', 'prolat', 'proof', 'propag', 'propel', 'propel', 'properti', 'properti', 'propos', 'propuls', 'prospect', 'protect', 'proton', 'proxim', 'pt', 'publish', 'pump', 'pure', 'q', 'qualit', 'qualiti', 'qualiti', 'quantit', 'quarter', 'quartz', 'quasi', 'r', 'radial', 'radiat', 'radiat', 'rae', 'random', 'randon', 'rang', 'rapid', 'rarefact', 'rarefi', 'rate', 'rate', 'ratio', 'ratio', 'rayleigh', 'react', 'reaction', 'reaction', 'reactiv', 'real', 'reattach', 'reattach', 'recent', 'reciproc', 'reciproc', 'recombin', 'record', 'recoveri', 'rectangular', 'redesign', 'redirect', 'reduct', 'redund', 'reentri', 'refer', 'refer', 'refin', 'reflect', 'regim', 'regim', 'region', 'region', 'regular', 'reinforc', 'relat', 'relat', 'relat', 'relat', 'relationship', 'relax', 'releas', 'remark', 'render', 'repli', 'report', 'requir', 'requir', 'research', 'resist', 'resist', 'resist', 'respons', 'respons', 'rest', 'restrain', 'restraint', 'result', 'result', 'retrocket', 'return', 'revers', 'revers', 'review', 'revolut', 'reynold', 'rheolog', 'rhombic', 'rigid', 'rigid', 'ring', 'rise', 'rocket', 'rocket', 'role', 'roll', 'roll', 'rotari', 'rotat', 'rotat', 'rotate', 'rotor', 'rough', 'round', 'routin', 'row', 'rule', 's', 'sand', 'sandwich', 'satellit', 'satellit', 'scale', 'scale', 'schubauer', 'scoop', 'second', 'secondari', 'section', 'section', 'section', 'sector', 'sectori', 'sector', 'sedov', 'self', 'semi', 'semicircular', 'semivertex', 'sensor', 'separ', 'separ', 'separ', 'separ', 'seri', 'set', 'sever', 'shallow', 'shape', 'shape', 'shape', 'sharp', 'shear', 'shear', 'sheet', 'shell', 'shell', 'shield', 'shield', 'shock', 'shock', 'short', 'shortcom', 'shroud', 'shyperson', 'sideslip', 'signal', 'similar', 'similar', 'similitud', 'simpl', 'simplifi', 'simpli', 'simul', 'simul', 'simul', 'simultan', 'singl', 'sink', 'sinusoid', 'size', 'skan', 'skin', 'slab', 'slab', 'slender', 'slider', 'slight', 'slight', 'slip', 'slipstream', 'slipstream', 'slope', 'slot', 'slot', 'small', 'smallest', 'smoke', 'snap', 'snap', 'sobson', 'sodium', 'soft', 'solar', 'solid', 'solid', 'solut', 'solut', 'solv', 'som', 'sonic', 'sound', 'sound', 'sourc', 'sourc', 'southwel', 'space', 'spacecraft', 'space', 'span', 'span', 'spanwis', 'special', 'specifi', 'spectra', 'spectrum', 'speed', 'speed', 'sphere', 'sphere', 'spheric', 'spheric', 'spheric', 'spheroid', 'spike', 'spinner', 'spin', 'split', 'splitter', 'spread', 'spring', 'squar', 'squir', 'stabil', 'stabil', 'stabil', 'stabl', 'stack', 'stage', 'stage', 'stagnat', 'stainless', 'stall', 'stall', 'standard', 'standoff', 'stanton', 'start', 'state', 'state', 'static', 'stationari', 'statist', 'stator', 'steadi', 'steel', 'step', 'step', 'stewartson', 'stiffen', 'stiffen', 'stiffen', 'stiff', 'sting', 'stoke', 'stol', 'straight', 'strain', 'stratiform', 'stream', 'stream', 'streamwis', 'strength', 'stress', 'stress', 'stress', 'stretch', 'stringer', 'stringer', 'strip', 'strip', 'strong', 'structur', 'structur', 'structur', 'studi', 'studi', 'studi', 'subaudio', 'subject', 'subject', 'sublay', 'sublim', 'subson', 'suction', 'summari', 'super', 'supercircular', 'supercrit', 'superson', 'supplort', 'support', 'support', 'support', 'surfac', 'surfac', 'survey', 'survey', 'sustain', 'sustain', 'sweat', 'sweep', 'sweepback', 'swept', 'sweptback', 'sweptw', 'swirl', 'symmetr', 'symmetr', 'symmetr', 'systemat', 'systemat', 'system', 't', 'tab', 'tabl', 'tabul', 'tabul', 'tail', 'tailor', 'tailplan', 'taper', 'taylor', 'techniqu', 'techniqu', 'teflon', 'temp', 'temperatur', 'temperatur', 'tension', 'terrain', 'test', 'test', 'test', 'theorem', 'theoret', 'theori', 'theori', 'thermal', 'thermo', 'thermodynam', 'thermodynam', 'thermoelast', 'thermoelast', 'thick', 'throat', 'thrust', 'tilt', 'tilt', 'time', 'time', 'tip', 'tool', 'toricon', 'torispher', 'toroid', 'torsion', 'torsion', 'trail', 'trail', 'trail', 'trajectori', 'tran', 'transfer', 'transform', 'transform', 'transient', 'transit', 'transit', 'transon', 'transpir', 'transport', 'transtabl', 'transvers', 'transvers', 'travel', 'travel', 'travers', 'treatment', 'treatment', 'truncat', 'tube', 'tube', 'tubul', 'tumbl', 'tunnel', 'tunnel', 'turbin', 'turbin', 'turbo', 'turbojet', 'turbulen', 'turbul', 'turbul', 'twin', 'twist', 'type', 'type', 'typic', 'u', 'ultra', 'uncamb', 'unifi', 'uniform', 'uniform', 'unit', 'unit', 'uniti', 'unsteadili', 'unsteadi', 'unsteadi', 'unstiffen', 'unswept', 'unyaw', 'upper', 'upstream', 'use', 'use', 'use', 'util', 'v', 'valid', 'valu', 'valu', 'van', 'vane', 'vapor', 'variabl', 'variabl', 'variat', 'variat', 'variat', 'vari', 'various', 'vari', 'vector', 'vehicl', 'vehicl', 'veloc', 'veloc', 'venturi', 'vertex', 'vertic', 'vessel', 'vessel', 'vi', 'vibrat', 'vibrat', 'vibrat', 'vibrat', 'viii', 'viscos', 'viscous', 'visualis', 'visual', 'volum', 'vortex', 'vortic', 'vortic', 'vtol', 'wake', 'wake', 'wall', 'wall', 'wall', 'warren', 'water', 'wave', 'wave', 'weak', 'weapon', 'web', 'wedg', 'weight', 'wich', 'wide', 'width', 'wind', 'wing', 'wing', 'wing', 'wingtip', 'wise', 'work', 'work', 'wrinkl', 'wrinkl', 'x', 'yaw', 'yaw', 'yaw', 'yield', 'z', 'zero', 'zone', 'zoom']\n"
     ]
    }
   ],
   "source": [
    "poerter_stem=[]\n",
    "snowball_stem=[]\n",
    "lancaster_stem=[]\n",
    "\n",
    "\n",
    "for word in term :\n",
    "    pr_stem_word=prstem.stem(word)\n",
    "    la_stem_word=lastem.stem(word)\n",
    "    sn_stem_word=snstem.stem(word)\n",
    "    poerter_stem.append(pr_stem_word)\n",
    "    lancaster_stem.append(la_stem_word)\n",
    "    snowball_stem.append(sn_stem_word)\n",
    "print(poerter_stem)\n",
    "print('-------------------------------------------------------------------')\n",
    "print(lancaster_stem)\n",
    "print('-------------------------------------------------------------------')\n",
    "print(snowball_stem)\n"
   ]
  },
  {
   "cell_type": "code",
   "execution_count": null,
   "metadata": {},
   "outputs": [
    {
     "name": "stdout",
     "output_type": "stream",
     "text": [
      "Collecting python-terrier\n",
      "  Using cached python_terrier-0.13.0-py3-none-any.whl.metadata (11 kB)\n",
      "Collecting numpy (from python-terrier)\n",
      "  Using cached numpy-2.2.3-cp312-cp312-win_amd64.whl.metadata (60 kB)\n",
      "Collecting pandas (from python-terrier)\n",
      "  Using cached pandas-2.2.3-cp312-cp312-win_amd64.whl.metadata (19 kB)\n",
      "Collecting more-itertools (from python-terrier)\n",
      "  Using cached more_itertools-10.6.0-py3-none-any.whl.metadata (37 kB)\n",
      "Collecting tqdm (from python-terrier)\n",
      "  Using cached tqdm-4.67.1-py3-none-any.whl.metadata (57 kB)\n",
      "Collecting requests (from python-terrier)\n",
      "  Using cached requests-2.32.3-py3-none-any.whl.metadata (4.6 kB)\n",
      "Collecting ir-datasets>=0.3.2 (from python-terrier)\n",
      "  Using cached ir_datasets-0.5.10-py3-none-any.whl.metadata (12 kB)\n",
      "Collecting wget (from python-terrier)\n",
      "  Using cached wget-3.2-py3-none-any.whl\n",
      "Collecting pyjnius>=1.4.2 (from python-terrier)\n",
      "  Using cached pyjnius-1.6.1-cp312-cp312-win_amd64.whl.metadata (10 kB)\n",
      "Collecting deprecated (from python-terrier)\n",
      "  Using cached Deprecated-1.2.18-py2.py3-none-any.whl.metadata (5.7 kB)\n",
      "Collecting scipy (from python-terrier)\n",
      "  Using cached scipy-1.15.2-cp312-cp312-win_amd64.whl.metadata (60 kB)\n",
      "Collecting ir-measures>=0.3.1 (from python-terrier)\n",
      "  Using cached ir_measures-0.3.7-py3-none-any.whl.metadata (7.0 kB)\n",
      "Collecting pytrec-eval-terrier>=0.5.3 (from python-terrier)\n",
      "  Using cached pytrec_eval_terrier-0.5.6-cp312-cp312-win_amd64.whl.metadata (796 bytes)\n",
      "Collecting jinja2 (from python-terrier)\n",
      "  Using cached jinja2-3.1.6-py3-none-any.whl.metadata (2.9 kB)\n",
      "Collecting statsmodels (from python-terrier)\n",
      "  Using cached statsmodels-0.14.4-cp312-cp312-win_amd64.whl.metadata (9.5 kB)\n",
      "Collecting dill (from python-terrier)\n",
      "  Using cached dill-0.3.9-py3-none-any.whl.metadata (10 kB)\n",
      "Collecting joblib (from python-terrier)\n",
      "  Using cached joblib-1.4.2-py3-none-any.whl.metadata (5.4 kB)\n",
      "Collecting chest (from python-terrier)\n",
      "  Using cached chest-0.2.3-py3-none-any.whl\n",
      "Collecting lz4 (from python-terrier)\n",
      "  Using cached lz4-4.4.3-cp312-cp312-win_amd64.whl.metadata (3.9 kB)\n",
      "Collecting beautifulsoup4>=4.4.1 (from ir-datasets>=0.3.2->python-terrier)\n",
      "  Using cached beautifulsoup4-4.13.3-py3-none-any.whl.metadata (3.8 kB)\n",
      "Collecting inscriptis>=2.2.0 (from ir-datasets>=0.3.2->python-terrier)\n",
      "  Using cached inscriptis-2.5.3-py3-none-any.whl.metadata (25 kB)\n",
      "Collecting lxml>=4.5.2 (from ir-datasets>=0.3.2->python-terrier)\n",
      "  Using cached lxml-5.3.1-cp312-cp312-win_amd64.whl.metadata (3.8 kB)\n",
      "Collecting pyyaml>=5.3.1 (from ir-datasets>=0.3.2->python-terrier)\n",
      "  Using cached PyYAML-6.0.2-cp312-cp312-win_amd64.whl.metadata (2.1 kB)\n",
      "Collecting trec-car-tools>=2.5.4 (from ir-datasets>=0.3.2->python-terrier)\n",
      "  Using cached trec_car_tools-2.6-py3-none-any.whl.metadata (640 bytes)\n",
      "Collecting warc3-wet>=0.2.3 (from ir-datasets>=0.3.2->python-terrier)\n",
      "  Using cached warc3_wet-0.2.5-py3-none-any.whl.metadata (2.2 kB)\n",
      "Collecting warc3-wet-clueweb09>=0.2.5 (from ir-datasets>=0.3.2->python-terrier)\n",
      "  Using cached warc3_wet_clueweb09-0.2.5-py3-none-any.whl\n",
      "Collecting zlib-state>=0.1.3 (from ir-datasets>=0.3.2->python-terrier)\n",
      "  Using cached zlib_state-0.1.9-cp312-cp312-win_amd64.whl.metadata (3.4 kB)\n",
      "Collecting ijson>=3.1.3 (from ir-datasets>=0.3.2->python-terrier)\n",
      "  Using cached ijson-3.3.0-cp312-cp312-win_amd64.whl.metadata (22 kB)\n",
      "Collecting unlzw3>=0.2.1 (from ir-datasets>=0.3.2->python-terrier)\n",
      "  Using cached unlzw3-0.2.3-py3-none-any.whl.metadata (2.3 kB)\n",
      "Collecting pyarrow>=16.1.0 (from ir-datasets>=0.3.2->python-terrier)\n",
      "  Using cached pyarrow-19.0.1-cp312-cp312-win_amd64.whl.metadata (3.4 kB)\n",
      "Collecting charset-normalizer<4,>=2 (from requests->python-terrier)\n",
      "  Using cached charset_normalizer-3.4.1-cp312-cp312-win_amd64.whl.metadata (36 kB)\n",
      "Collecting idna<4,>=2.5 (from requests->python-terrier)\n",
      "  Using cached idna-3.10-py3-none-any.whl.metadata (10 kB)\n",
      "Collecting urllib3<3,>=1.21.1 (from requests->python-terrier)\n",
      "  Using cached urllib3-2.3.0-py3-none-any.whl.metadata (6.5 kB)\n",
      "Collecting certifi>=2017.4.17 (from requests->python-terrier)\n",
      "  Using cached certifi-2025.1.31-py3-none-any.whl.metadata (2.5 kB)\n",
      "Collecting colorama (from tqdm->python-terrier)\n",
      "  Using cached colorama-0.4.6-py2.py3-none-any.whl.metadata (17 kB)\n",
      "Collecting heapdict (from chest->python-terrier)\n",
      "  Using cached HeapDict-1.0.1-py3-none-any.whl.metadata (1.9 kB)\n",
      "Collecting wrapt<2,>=1.10 (from deprecated->python-terrier)\n",
      "  Using cached wrapt-1.17.2-cp312-cp312-win_amd64.whl.metadata (6.5 kB)\n",
      "Collecting MarkupSafe>=2.0 (from jinja2->python-terrier)\n",
      "  Using cached MarkupSafe-3.0.2-cp312-cp312-win_amd64.whl.metadata (4.1 kB)\n",
      "Collecting python-dateutil>=2.8.2 (from pandas->python-terrier)\n",
      "  Using cached python_dateutil-2.9.0.post0-py2.py3-none-any.whl.metadata (8.4 kB)\n",
      "Collecting pytz>=2020.1 (from pandas->python-terrier)\n",
      "  Using cached pytz-2025.1-py2.py3-none-any.whl.metadata (22 kB)\n",
      "Collecting tzdata>=2022.7 (from pandas->python-terrier)\n",
      "  Using cached tzdata-2025.1-py2.py3-none-any.whl.metadata (1.4 kB)\n",
      "Collecting patsy>=0.5.6 (from statsmodels->python-terrier)\n",
      "  Using cached patsy-1.0.1-py2.py3-none-any.whl.metadata (3.3 kB)\n",
      "Collecting packaging>=21.3 (from statsmodels->python-terrier)\n",
      "  Using cached packaging-24.2-py3-none-any.whl.metadata (3.2 kB)\n",
      "Collecting soupsieve>1.2 (from beautifulsoup4>=4.4.1->ir-datasets>=0.3.2->python-terrier)\n",
      "  Using cached soupsieve-2.6-py3-none-any.whl.metadata (4.6 kB)\n",
      "Collecting typing-extensions>=4.0.0 (from beautifulsoup4>=4.4.1->ir-datasets>=0.3.2->python-terrier)\n",
      "  Using cached typing_extensions-4.12.2-py3-none-any.whl.metadata (3.0 kB)\n",
      "Collecting six>=1.5 (from python-dateutil>=2.8.2->pandas->python-terrier)\n",
      "  Using cached six-1.17.0-py2.py3-none-any.whl.metadata (1.7 kB)\n",
      "Collecting cbor>=1.0.0 (from trec-car-tools>=2.5.4->ir-datasets>=0.3.2->python-terrier)\n",
      "  Using cached cbor-1.0.0-py3-none-any.whl\n",
      "Using cached python_terrier-0.13.0-py3-none-any.whl (163 kB)\n",
      "Using cached ir_datasets-0.5.10-py3-none-any.whl (859 kB)\n",
      "Using cached ir_measures-0.3.7-py3-none-any.whl (60 kB)\n",
      "Using cached lz4-4.4.3-cp312-cp312-win_amd64.whl (99 kB)\n",
      "Using cached numpy-2.2.3-cp312-cp312-win_amd64.whl (12.6 MB)\n",
      "Using cached pyjnius-1.6.1-cp312-cp312-win_amd64.whl (223 kB)\n",
      "Using cached pytrec_eval_terrier-0.5.6-cp312-cp312-win_amd64.whl (56 kB)\n",
      "Using cached requests-2.32.3-py3-none-any.whl (64 kB)\n",
      "Using cached tqdm-4.67.1-py3-none-any.whl (78 kB)\n",
      "Using cached Deprecated-1.2.18-py2.py3-none-any.whl (10.0 kB)\n",
      "Using cached dill-0.3.9-py3-none-any.whl (119 kB)\n",
      "Using cached jinja2-3.1.6-py3-none-any.whl (134 kB)\n",
      "Using cached joblib-1.4.2-py3-none-any.whl (301 kB)\n",
      "Using cached more_itertools-10.6.0-py3-none-any.whl (63 kB)\n",
      "Using cached pandas-2.2.3-cp312-cp312-win_amd64.whl (11.5 MB)\n",
      "Using cached scipy-1.15.2-cp312-cp312-win_amd64.whl (40.9 MB)\n",
      "Using cached statsmodels-0.14.4-cp312-cp312-win_amd64.whl (9.8 MB)\n",
      "Using cached beautifulsoup4-4.13.3-py3-none-any.whl (186 kB)\n",
      "Using cached certifi-2025.1.31-py3-none-any.whl (166 kB)\n",
      "Using cached charset_normalizer-3.4.1-cp312-cp312-win_amd64.whl (102 kB)\n",
      "Using cached idna-3.10-py3-none-any.whl (70 kB)\n",
      "Using cached ijson-3.3.0-cp312-cp312-win_amd64.whl (51 kB)\n",
      "Using cached inscriptis-2.5.3-py3-none-any.whl (45 kB)\n",
      "Using cached lxml-5.3.1-cp312-cp312-win_amd64.whl (3.8 MB)\n",
      "Using cached MarkupSafe-3.0.2-cp312-cp312-win_amd64.whl (15 kB)\n",
      "Using cached packaging-24.2-py3-none-any.whl (65 kB)\n",
      "Using cached patsy-1.0.1-py2.py3-none-any.whl (232 kB)\n",
      "Using cached pyarrow-19.0.1-cp312-cp312-win_amd64.whl (25.3 MB)\n",
      "Using cached python_dateutil-2.9.0.post0-py2.py3-none-any.whl (229 kB)\n",
      "Using cached pytz-2025.1-py2.py3-none-any.whl (507 kB)\n",
      "Using cached PyYAML-6.0.2-cp312-cp312-win_amd64.whl (156 kB)\n",
      "Using cached trec_car_tools-2.6-py3-none-any.whl (8.4 kB)\n",
      "Using cached tzdata-2025.1-py2.py3-none-any.whl (346 kB)\n",
      "Using cached unlzw3-0.2.3-py3-none-any.whl (6.7 kB)\n",
      "Using cached urllib3-2.3.0-py3-none-any.whl (128 kB)\n",
      "Using cached warc3_wet-0.2.5-py3-none-any.whl (18 kB)\n",
      "Using cached wrapt-1.17.2-cp312-cp312-win_amd64.whl (38 kB)\n",
      "Using cached zlib_state-0.1.9-cp312-cp312-win_amd64.whl (12 kB)\n",
      "Using cached colorama-0.4.6-py2.py3-none-any.whl (25 kB)\n",
      "Using cached HeapDict-1.0.1-py3-none-any.whl (3.9 kB)\n",
      "Using cached six-1.17.0-py2.py3-none-any.whl (11 kB)\n",
      "Using cached soupsieve-2.6-py3-none-any.whl (36 kB)\n",
      "Using cached typing_extensions-4.12.2-py3-none-any.whl (37 kB)\n",
      "Installing collected packages: wget, warc3-wet-clueweb09, warc3-wet, pytz, pyjnius, ijson, heapdict, cbor, zlib-state, wrapt, urllib3, unlzw3, tzdata, typing-extensions, soupsieve, six, pyyaml, pytrec-eval-terrier, pyarrow, packaging, numpy, more-itertools, MarkupSafe, lz4, lxml, joblib, idna, dill, colorama, chest, charset-normalizer, certifi, trec-car-tools, tqdm, scipy, requests, python-dateutil, patsy, jinja2, ir-measures, deprecated, beautifulsoup4, pandas, inscriptis, statsmodels, ir-datasets, python-terrier\n",
      "Successfully installed MarkupSafe-3.0.2 beautifulsoup4-4.13.3 cbor-1.0.0 certifi-2025.1.31 charset-normalizer-3.4.1 chest-0.2.3 colorama-0.4.6 deprecated-1.2.18 dill-0.3.9 heapdict-1.0.1 idna-3.10 ijson-3.3.0 inscriptis-2.5.3 ir-datasets-0.5.10 ir-measures-0.3.7 jinja2-3.1.6 joblib-1.4.2 lxml-5.3.1 lz4-4.4.3 more-itertools-10.6.0 numpy-2.2.3 packaging-24.2 pandas-2.2.3 patsy-1.0.1 pyarrow-19.0.1 pyjnius-1.6.1 python-dateutil-2.9.0.post0 python-terrier-0.13.0 pytrec-eval-terrier-0.5.6 pytz-2025.1 pyyaml-6.0.2 requests-2.32.3 scipy-1.15.2 six-1.17.0 soupsieve-2.6 statsmodels-0.14.4 tqdm-4.67.1 trec-car-tools-2.6 typing-extensions-4.12.2 tzdata-2025.1 unlzw3-0.2.3 urllib3-2.3.0 warc3-wet-0.2.5 warc3-wet-clueweb09-0.2.5 wget-3.2 wrapt-1.17.2 zlib-state-0.1.9\n"
     ]
    },
    {
     "name": "stderr",
     "output_type": "stream",
     "text": [
      "\n",
      "[notice] A new release of pip is available: 24.2 -> 25.0.1\n",
      "[notice] To update, run: python.exe -m pip install --upgrade pip\n"
     ]
    }
   ],
   "source": [
    "# def preprocess(text):\n",
    "#     text = text.lower()\n",
    "#     text = re.sub(r'[^\\w\\s]', '', text)    \n",
    "#     text = re.sub(r'\\d+', '', text)\n",
    "#     text = re.sub(r'\\s+', ' ', text).strip()   .\n",
    "#     text = re.sub(r'http\\S+', '', text)\n",
    "#     tokens = vectorizer = CountVectorizer(binary=True, stop_words=\"english\", lowercase=True, \n",
    "#                              token_pattern=r'\\b[a-zA-Z]+\\b') \n",
    "#     vector = vectorizer.fit_transform(text)\n",
    "\n",
    "#     # Stopword removal & stemming\n",
    "#     processed_tokens = [stemmer.stem(word) for word in tokens if word not in stop_words]\n",
    "\n",
    "#     return ' '.join(processed_tokens)\n",
    "\n",
    "# # Apply preprocessing to the dataset\n",
    "# df['processed_text'] = df['raw_text'].apply(preprocess)"
   ]
  },
  {
   "cell_type": "code",
   "execution_count": 1,
   "metadata": {},
   "outputs": [
    {
     "name": "stderr",
     "output_type": "stream",
     "text": [
      "Java started and loaded: pyterrier.java, pyterrier.terrier.java [version=5.11 (build: craig.macdonald 2025-01-13 21:29), helper_version=0.0.8]\n"
     ]
    }
   ],
   "source": [
    "import pyterrier as pt\n",
    "\n",
    "#PyTerrier is built on Java-based Terrier\n",
    "#To start Java Virtual Machine (JVM) in the Python environment\n",
    "\n",
    "if not pt.java.started():\n",
    "    pt.java.init()"
   ]
  }
 ],
 "metadata": {
  "kernelspec": {
   "display_name": "venv",
   "language": "python",
   "name": "python3"
  },
  "language_info": {
   "codemirror_mode": {
    "name": "ipython",
    "version": 3
   },
   "file_extension": ".py",
   "mimetype": "text/x-python",
   "name": "python",
   "nbconvert_exporter": "python",
   "pygments_lexer": "ipython3",
   "version": "3.12.7"
  }
 },
 "nbformat": 4,
 "nbformat_minor": 2
}
